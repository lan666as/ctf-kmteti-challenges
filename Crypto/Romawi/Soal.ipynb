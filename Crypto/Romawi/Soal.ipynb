{
 "cells": [
  {
   "cell_type": "code",
   "execution_count": 28,
   "source": [
    "FLAG = \"KMTETICTF{The_Caesar_cipher_is_named_after_Julius_Caesar}\""
   ],
   "outputs": [],
   "metadata": {}
  },
  {
   "cell_type": "code",
   "execution_count": 29,
   "source": [
    "ciphertext = []\n",
    "for i, c in enumerate(FLAG):\n",
    "    if (c >= 'A' and c <= 'Z'):\n",
    "        ciphertext.append( chr(ord('A') + (i+(ord(c)-ord('A')))%26) )\n",
    "    elif (c >= 'a' and c<= 'z'):\n",
    "        ciphertext.append( chr(ord('a') +  (i+(ord(c)-ord('a')))%26) )\n",
    "    else:\n",
    "        ciphertext.append(c)"
   ],
   "outputs": [],
   "metadata": {}
  },
  {
   "cell_type": "code",
   "execution_count": 30,
   "source": [
    "decrypted = \"\".join(ciphertext)\n",
    "\n",
    "decrypted"
   ],
   "outputs": [
    {
     "output_type": "execute_result",
     "data": {
      "text/plain": [
       "'KNVHXNIAN{Dsq_Qpujsk_xemfdr_kv_sgtmm_lrgsg_Amecpo_Azetcu}'"
      ]
     },
     "metadata": {},
     "execution_count": 30
    }
   ],
   "metadata": {}
  },
  {
   "cell_type": "code",
   "execution_count": 26,
   "source": [
    "ciphertext = []\n",
    "for i, c in enumerate(decrypted):\n",
    "    if (c >= 'A' and c <= 'Z'):\n",
    "        ciphertext.append( chr(ord('A') +- ((((ord(c)-ord('A'))-i)%26)+26)%26) )\n",
    "    elif (c >= 'a' and c<= 'z'):\n",
    "        ciphertext.append( chr(ord('a') + ((((ord(c)-ord('a'))-i)%26)+26)%26) )\n",
    "    else:\n",
    "        ciphertext.append(c)"
   ],
   "outputs": [],
   "metadata": {}
  },
  {
   "cell_type": "code",
   "execution_count": 27,
   "source": [
    "\"\".join(ciphertext)"
   ],
   "outputs": [
    {
     "output_type": "execute_result",
     "data": {
      "text/plain": [
       "'Hhe_Yaesar_cipher_is_named_after_Rulius_Yaesar'"
      ]
     },
     "metadata": {},
     "execution_count": 27
    }
   ],
   "metadata": {}
  }
 ],
 "metadata": {
  "orig_nbformat": 4,
  "language_info": {
   "name": "python",
   "version": "3.9.1",
   "mimetype": "text/x-python",
   "codemirror_mode": {
    "name": "ipython",
    "version": 3
   },
   "pygments_lexer": "ipython3",
   "nbconvert_exporter": "python",
   "file_extension": ".py"
  },
  "kernelspec": {
   "name": "python391jvsc74a57bd0c70864bf27a3c50e9f5f89cd0f8208da305e70006fc8040e1185c3c968b78c78",
   "display_name": "SageMath 9.2",
   "language": "sage"
  }
 },
 "nbformat": 4,
 "nbformat_minor": 2
}