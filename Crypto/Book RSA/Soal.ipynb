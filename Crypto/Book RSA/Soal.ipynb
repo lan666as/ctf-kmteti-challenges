{
 "cells": [
  {
   "cell_type": "code",
   "execution_count": 37,
   "source": [
    "from Crypto.Util.number import getPrime, getRandomRange, long_to_bytes, bytes_to_long, inverse\n",
    "from secrets import FLAG"
   ],
   "outputs": [],
   "metadata": {}
  },
  {
   "cell_type": "code",
   "execution_count": 38,
   "source": [
    "m = bytes_to_long(FLAG)\n",
    "p = getPrime(32)\n",
    "q = getPrime(1024)\n",
    "e = 0x10001\n",
    "\n",
    "N = p*q\n",
    "\n",
    "c = pow(m, e, N)"
   ],
   "outputs": [],
   "metadata": {}
  },
  {
   "cell_type": "code",
   "execution_count": 39,
   "source": [
    "print(f\"N = {N}\\ne = {e}\\nc = {c}\\n\")"
   ],
   "outputs": [
    {
     "output_type": "stream",
     "name": "stdout",
     "text": [
      "N = 436398648684801404412992523417214672791763020935874169291441547029774603650443033438557732003068979060909172625405936177586289023622331037838098433869396745269391591377982206987789954270409186046718016571540180204107508534057652580782908377230433153886401862619993277489750289166315613440312940050598522256150955851073\n",
      "e = 65537\n",
      "c = 64927302381650157342188332721060722289433454770565650062754749476332020424640238511564005498930650284799696229763408648515708241147780722012644059438204756881082639474092812023556978957594419731287755550148938766716636576283281988272230755032383113026853972214408118940115955783516356029103607567590090395516041349117\n",
      "\n"
     ]
    }
   ],
   "metadata": {}
  },
  {
   "cell_type": "code",
   "execution_count": 14,
   "source": [
    "d = inverse(e, (p-1)*(q-1))\n",
    "decrypted = pow(c, d, N)"
   ],
   "outputs": [],
   "metadata": {}
  },
  {
   "cell_type": "code",
   "execution_count": 15,
   "source": [
    "long_to_bytes(decrypted)"
   ],
   "outputs": [
    {
     "output_type": "execute_result",
     "data": {
      "text/plain": [
       "b'KMTETICTF{Ron-Rivest_and_Adi-Shamir_and_Leonard-Adleman_9ff5a078c2dd0beb8ed789d338fd2716}'"
      ]
     },
     "metadata": {},
     "execution_count": 15
    }
   ],
   "metadata": {}
  }
 ],
 "metadata": {
  "orig_nbformat": 4,
  "language_info": {
   "name": "python",
   "version": "3.9.1",
   "mimetype": "text/x-python",
   "codemirror_mode": {
    "name": "ipython",
    "version": 3
   },
   "pygments_lexer": "ipython3",
   "nbconvert_exporter": "python",
   "file_extension": ".py"
  },
  "kernelspec": {
   "name": "python391jvsc74a57bd0c70864bf27a3c50e9f5f89cd0f8208da305e70006fc8040e1185c3c968b78c78",
   "display_name": "SageMath 9.2",
   "language": "sage"
  }
 },
 "nbformat": 4,
 "nbformat_minor": 2
}