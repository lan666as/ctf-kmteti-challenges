{
 "cells": [
  {
   "cell_type": "code",
   "execution_count": null,
   "source": [
    "from Crypto.Util.number import *\n",
    "\n",
    "a = getPrime(NBITS)\n",
    "c = getRandomNBitInteger(NBITS)\n",
    "m = getPrime(NBITS<<1)\n",
    "seed = getRandomNBitInteger(NBITS)\n",
    "state = seed\n",
    "\n",
    "ciphertext = []\n",
    "\n",
    "for i,f in enumerate(FLAG):\n",
    "    state = (state*a+c)%m\n",
    "    ciphertext.append(state^^i^^ord(f))"
   ],
   "outputs": [],
   "metadata": {}
  }
 ],
 "metadata": {
  "orig_nbformat": 4,
  "language_info": {
   "name": "sage"
  },
  "kernelspec": {
   "name": "python391jvsc74a57bd0c70864bf27a3c50e9f5f89cd0f8208da305e70006fc8040e1185c3c968b78c78",
   "display_name": "SageMath 9.2"
  }
 },
 "nbformat": 4,
 "nbformat_minor": 2
}